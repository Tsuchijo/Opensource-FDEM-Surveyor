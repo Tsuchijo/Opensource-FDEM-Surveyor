{
 "cells": [
  {
   "cell_type": "code",
   "execution_count": 2,
   "id": "7285feb7",
   "metadata": {},
   "outputs": [],
   "source": [
    "import numpy as np\n",
    "import matplotlib.pyplot as plt\n",
    "from ThreeCoilSimulation import Coil, ThreeCoilSystem"
   ]
  },
  {
   "cell_type": "code",
   "execution_count": 3,
   "id": "24ba507e",
   "metadata": {},
   "outputs": [],
   "source": [
    "# Define coil parameters\n",
    "tx_coil = Coil(\n",
    "    orientation='z',\n",
    "    position=(0, 0, 0),\n",
    "    radius=0.125,      # 12.5 cm radius\n",
    "    turns=40,\n",
    "    wire_diameter=0.001,\n",
    "    resistivity=1.68e-8\n",
    ")\n",
    "\n",
    "rx_coil = Coil(\n",
    "    orientation='z',\n",
    "    position=(1.0, 0, 0),  # 30 cm separation\n",
    "    radius=0.05,           # 5 cm radius\n",
    "    turns=50,\n",
    "    wire_diameter=0.0008,\n",
    "    resistivity=1.68e-8\n",
    ")\n",
    "\n",
    "bucking_coil = Coil(\n",
    "    orientation='z',\n",
    "    position=(0.5, 0, 0),  # Initial guess for optimal position\n",
    "    radius=0.05,            # 5 cm radius\n",
    "    turns=5,\n",
    "    wire_diameter=0.0006,\n",
    "    resistivity=1.68e-8\n",
    ")\n",
    "\n",
    "system = ThreeCoilSystem(tx_coil, rx_coil, bucking_coil, spacing=0.005)"
   ]
  },
  {
   "cell_type": "code",
   "execution_count": 4,
   "id": "877ba438",
   "metadata": {},
   "outputs": [
    {
     "name": "stdout",
     "output_type": "stream",
     "text": [
      "Constraining bucking coil search along x-axis between 0.175m and 0.900m\n",
      "Finding optimal bucking coil position...\n",
      "Searching in range: 0.175m to 0.900m\n",
      "Leftmost value: -4.775e-07, Rightmost value: 2.952e-05\n",
      "Optimal bucking coil position: [0.72314206 0.         0.        ]\n",
      "Resulting mutual inductance: 0.000 µH\n"
     ]
    }
   ],
   "source": [
    "## Find optimal bucking coil position\n",
    "system.find_bucking_distance(axis='x')\n",
    "print(f\"Optimal bucking coil position: {system.bucking_coil.position}\")\n",
    "print(f\"Resulting mutual inductance: {system.M_total*1e6:.3f} µH\")\n"
   ]
  }
 ],
 "metadata": {
  "kernelspec": {
   "display_name": "fdem-scanner-2",
   "language": "python",
   "name": "python3"
  },
  "language_info": {
   "codemirror_mode": {
    "name": "ipython",
    "version": 3
   },
   "file_extension": ".py",
   "mimetype": "text/x-python",
   "name": "python",
   "nbconvert_exporter": "python",
   "pygments_lexer": "ipython3",
   "version": "3.11.5"
  }
 },
 "nbformat": 4,
 "nbformat_minor": 5
}
